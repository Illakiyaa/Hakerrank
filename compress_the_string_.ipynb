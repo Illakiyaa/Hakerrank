{
  "nbformat": 4,
  "nbformat_minor": 0,
  "metadata": {
    "colab": {
      "provenance": [],
      "authorship_tag": "ABX9TyO5v0wcAWnLneBpjphveMME",
      "include_colab_link": true
    },
    "kernelspec": {
      "name": "python3",
      "display_name": "Python 3"
    },
    "language_info": {
      "name": "python"
    }
  },
  "cells": [
    {
      "cell_type": "markdown",
      "metadata": {
        "id": "view-in-github",
        "colab_type": "text"
      },
      "source": [
        "<a href=\"https://colab.research.google.com/github/Illakiyaa/Hakerrank/blob/main/compress_the_string_.ipynb\" target=\"_parent\"><img src=\"https://colab.research.google.com/assets/colab-badge.svg\" alt=\"Open In Colab\"/></a>"
      ]
    },
    {
      "cell_type": "markdown",
      "metadata": {
        "id": "gWgz9LH6uuet"
      },
      "source": [
        "#### compress the string\n",
        "\n"
      ]
    },
    {
      "cell_type": "code",
      "source": [
        "from itertools import groupby\n",
        "\n",
        "for k,c in groupby(input()):\n",
        "    print(\"(%d, %d)\" % (len(list(c)),int(k)),end=' ')\n",
        "\n"
      ],
      "metadata": {
        "id": "veBzXCr1IaNW"
      },
      "execution_count": null,
      "outputs": []
    }
  ]
}