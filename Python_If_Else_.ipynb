{
  "nbformat": 4,
  "nbformat_minor": 0,
  "metadata": {
    "colab": {
      "provenance": [],
      "authorship_tag": "ABX9TyPU5DryjREA0viNilOmyoje",
      "include_colab_link": true
    },
    "kernelspec": {
      "name": "python3",
      "display_name": "Python 3"
    },
    "language_info": {
      "name": "python"
    }
  },
  "cells": [
    {
      "cell_type": "markdown",
      "metadata": {
        "id": "view-in-github",
        "colab_type": "text"
      },
      "source": [
        "<a href=\"https://colab.research.google.com/github/Illakiyaa/Hakerrank/blob/main/Python_If_Else_.ipynb\" target=\"_parent\"><img src=\"https://colab.research.google.com/assets/colab-badge.svg\" alt=\"Open In Colab\"/></a>"
      ]
    },
    {
      "cell_type": "markdown",
      "metadata": {
        "id": "gWgz9LH6uuet"
      },
      "source": [
        "####  Python If-Else\n",
        "\n"
      ]
    },
    {
      "cell_type": "code",
      "source": [
        "n=int(input(\"enter a number :\"))\n",
        "if n%2==0 and (2<=n<=5 or n>20):\n",
        "    print(\"Not Weird\")\n",
        "elif n%2==0 and (6<=n<=20):\n",
        "    print(\"Weird\")\n",
        "else:\n",
        "    print(\"Weird\")"
      ],
      "metadata": {
        "colab": {
          "base_uri": "https://localhost:8080/"
        },
        "id": "veBzXCr1IaNW",
        "outputId": "72cfa0f5-afc2-4729-c0dd-98da819d5ba7"
      },
      "execution_count": 2,
      "outputs": [
        {
          "output_type": "stream",
          "name": "stdout",
          "text": [
            "enter a number :22\n",
            "Not Weird\n"
          ]
        }
      ]
    },
    {
      "cell_type": "markdown",
      "source": [
        " #### Arithmetic Operators"
      ],
      "metadata": {
        "id": "tL8pESiWIw8j"
      }
    },
    {
      "cell_type": "code",
      "source": [
        "a = int(input())\n",
        "b = int(input())\n",
        "\n",
        "print(a+b)\n",
        "print(a-b)\n",
        "print(a*b)\n"
      ],
      "metadata": {
        "colab": {
          "base_uri": "https://localhost:8080/"
        },
        "id": "ZiHmEnReIv3B",
        "outputId": "6eca6775-81d0-475a-9ec4-e6de66990883"
      },
      "execution_count": 3,
      "outputs": [
        {
          "output_type": "stream",
          "name": "stdout",
          "text": [
            "9\n",
            "6\n",
            "15\n",
            "3\n",
            "54\n"
          ]
        }
      ]
    }
  ]
}