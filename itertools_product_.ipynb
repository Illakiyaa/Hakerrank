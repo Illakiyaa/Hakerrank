{
  "nbformat": 4,
  "nbformat_minor": 0,
  "metadata": {
    "colab": {
      "provenance": [],
      "authorship_tag": "ABX9TyOOJyYwzgECkv6vBeSErhzj",
      "include_colab_link": true
    },
    "kernelspec": {
      "name": "python3",
      "display_name": "Python 3"
    },
    "language_info": {
      "name": "python"
    }
  },
  "cells": [
    {
      "cell_type": "markdown",
      "metadata": {
        "id": "view-in-github",
        "colab_type": "text"
      },
      "source": [
        "<a href=\"https://colab.research.google.com/github/Illakiyaa/Hakerrank/blob/main/itertools_product_.ipynb\" target=\"_parent\"><img src=\"https://colab.research.google.com/assets/colab-badge.svg\" alt=\"Open In Colab\"/></a>"
      ]
    },
    {
      "cell_type": "markdown",
      "metadata": {
        "id": "gWgz9LH6uuet"
      },
      "source": [
        "#### Company logo\n",
        "\n"
      ]
    },
    {
      "cell_type": "code",
      "source": [
        "from itertools import product\n",
        "a=list(map(int,input().split()))\n",
        "b=list(map(int,input().split()))\n",
        "\n",
        "print(*product(a,b))\n"
      ],
      "metadata": {
        "id": "veBzXCr1IaNW"
      },
      "execution_count": null,
      "outputs": []
    }
  ]
}