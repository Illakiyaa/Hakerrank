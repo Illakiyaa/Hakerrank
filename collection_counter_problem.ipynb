{
  "nbformat": 4,
  "nbformat_minor": 0,
  "metadata": {
    "colab": {
      "provenance": [],
      "authorship_tag": "ABX9TyNDHImhkdVEk+Gz2BcP6JOq",
      "include_colab_link": true
    },
    "kernelspec": {
      "name": "python3",
      "display_name": "Python 3"
    },
    "language_info": {
      "name": "python"
    }
  },
  "cells": [
    {
      "cell_type": "markdown",
      "metadata": {
        "id": "view-in-github",
        "colab_type": "text"
      },
      "source": [
        "<a href=\"https://colab.research.google.com/github/Illakiyaa/Hakerrank/blob/main/collection_counter_problem.ipynb\" target=\"_parent\"><img src=\"https://colab.research.google.com/assets/colab-badge.svg\" alt=\"Open In Colab\"/></a>"
      ]
    },
    {
      "cell_type": "markdown",
      "metadata": {
        "id": "gWgz9LH6uuet"
      },
      "source": [
        "#### collection counter problem\n",
        "\n"
      ]
    },
    {
      "cell_type": "code",
      "source": [
        "from collections import Counter\n",
        "numshoes=int(input())\n",
        "shoes= Counter(map(int,input().split()))\n",
        "numcust=int(input())\n",
        "\n",
        "income=0\n",
        "\n",
        "for i in range(numcust):\n",
        "    size,price=map(int,input().split())\n",
        "    if shoes[size]:\n",
        "        income+=price\n",
        "        shoes[size]-=1\n",
        "\n",
        "print(income)\n"
      ],
      "metadata": {
        "colab": {
          "base_uri": "https://localhost:8080/"
        },
        "id": "veBzXCr1IaNW",
        "outputId": "dcf47138-d978-4ce5-bda5-e62199562167"
      },
      "execution_count": 21,
      "outputs": [
        {
          "output_type": "stream",
          "name": "stdout",
          "text": [
            "10\n",
            "3 4 5 7 8 9  6 6 4\n",
            "4\n",
            "6 55\n",
            "7 80\n",
            "5 76\n",
            "4 11\n",
            "222\n"
          ]
        }
      ]
    }
  ]
}