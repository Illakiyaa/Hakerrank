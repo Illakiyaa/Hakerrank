{
  "nbformat": 4,
  "nbformat_minor": 0,
  "metadata": {
    "colab": {
      "provenance": [],
      "authorship_tag": "ABX9TyPmMza+cuIiXoIhiWTl+9Yx",
      "include_colab_link": true
    },
    "kernelspec": {
      "name": "python3",
      "display_name": "Python 3"
    },
    "language_info": {
      "name": "python"
    }
  },
  "cells": [
    {
      "cell_type": "markdown",
      "metadata": {
        "id": "view-in-github",
        "colab_type": "text"
      },
      "source": [
        "<a href=\"https://colab.research.google.com/github/Illakiyaa/Hakerrank/blob/main/itertools_permutation_.ipynb\" target=\"_parent\"><img src=\"https://colab.research.google.com/assets/colab-badge.svg\" alt=\"Open In Colab\"/></a>"
      ]
    },
    {
      "cell_type": "markdown",
      "metadata": {
        "id": "gWgz9LH6uuet"
      },
      "source": [
        "#### itertools combination\n",
        "\n"
      ]
    },
    {
      "cell_type": "code",
      "source": [
        "from itertools import combinations_with_replacement\n",
        "\n",
        "s,k=input().split()\n",
        "\n",
        "for i in combinations_with_replacement(sorted(s),int(k)):\n",
        "    print(''.join(i))\n"
      ],
      "metadata": {
        "id": "veBzXCr1IaNW"
      },
      "execution_count": null,
      "outputs": []
    }
  ]
}