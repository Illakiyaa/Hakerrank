{
  "nbformat": 4,
  "nbformat_minor": 0,
  "metadata": {
    "colab": {
      "provenance": [],
      "authorship_tag": "ABX9TyMl+BgnlbUsGfp9jQ5CYqKQ",
      "include_colab_link": true
    },
    "kernelspec": {
      "name": "python3",
      "display_name": "Python 3"
    },
    "language_info": {
      "name": "python"
    }
  },
  "cells": [
    {
      "cell_type": "markdown",
      "metadata": {
        "id": "view-in-github",
        "colab_type": "text"
      },
      "source": [
        "<a href=\"https://colab.research.google.com/github/Illakiyaa/Hakerrank/blob/main/no_idea_.ipynb\" target=\"_parent\"><img src=\"https://colab.research.google.com/assets/colab-badge.svg\" alt=\"Open In Colab\"/></a>"
      ]
    },
    {
      "cell_type": "markdown",
      "metadata": {
        "id": "gWgz9LH6uuet"
      },
      "source": [
        "#### no idea\n"
      ]
    },
    {
      "cell_type": "code",
      "source": [
        "o=input().split()\n",
        "n=int(o[0])\n",
        "m=int(o[1])\n",
        "count=0\n",
        "storage=list(map(int,input().strip().split()))\n",
        "a=set(map(int,input().strip().split()))\n",
        "b=set(map(int,input().strip().split()))\n",
        "\n",
        "for i in storage:\n",
        "    if i in a:\n",
        "        count+=1\n",
        "    if i in b:\n",
        "        count-=1\n",
        "\n",
        "print(count)\n"
      ],
      "metadata": {
        "colab": {
          "base_uri": "https://localhost:8080/"
        },
        "id": "veBzXCr1IaNW",
        "outputId": "674b0bfe-e004-43a5-e099-a091eada08e1"
      },
      "execution_count": 14,
      "outputs": [
        {
          "output_type": "stream",
          "name": "stdout",
          "text": [
            "2 3\n",
            "4\n",
            "8 56\n",
            "8 2\n",
            "0\n"
          ]
        }
      ]
    }
  ]
}