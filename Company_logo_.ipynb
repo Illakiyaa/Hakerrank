{
  "nbformat": 4,
  "nbformat_minor": 0,
  "metadata": {
    "colab": {
      "provenance": [],
      "authorship_tag": "ABX9TyO9s+aLiLSpOZyeQRic6b3o",
      "include_colab_link": true
    },
    "kernelspec": {
      "name": "python3",
      "display_name": "Python 3"
    },
    "language_info": {
      "name": "python"
    }
  },
  "cells": [
    {
      "cell_type": "markdown",
      "metadata": {
        "id": "view-in-github",
        "colab_type": "text"
      },
      "source": [
        "<a href=\"https://colab.research.google.com/github/Illakiyaa/Hakerrank/blob/main/Company_logo_.ipynb\" target=\"_parent\"><img src=\"https://colab.research.google.com/assets/colab-badge.svg\" alt=\"Open In Colab\"/></a>"
      ]
    },
    {
      "cell_type": "markdown",
      "metadata": {
        "id": "gWgz9LH6uuet"
      },
      "source": [
        "#### Company logo\n",
        "\n"
      ]
    },
    {
      "cell_type": "code",
      "source": [
        "import math\n",
        "import os\n",
        "import random\n",
        "import re\n",
        "import sys\n",
        "import collections\n",
        "\n",
        "\n",
        "\n",
        "if __name__ == '__main__':\n",
        "    s = sorted(input().strip())\n",
        "    s_counter=collections.Counter(s).most_common()\n",
        "    s_counter=sorted(s_counter,key=lambda x: (x[1]*-1,x[0]))\n",
        "    for i in range(0,3):\n",
        "        print(s_counter[i][0],s_counter[i][1])\n"
      ],
      "metadata": {
        "id": "veBzXCr1IaNW"
      },
      "execution_count": null,
      "outputs": []
    }
  ]
}