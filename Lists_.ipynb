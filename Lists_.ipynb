{
  "nbformat": 4,
  "nbformat_minor": 0,
  "metadata": {
    "colab": {
      "provenance": [],
      "authorship_tag": "ABX9TyOrPmtJasxWRZ59F02zlln/",
      "include_colab_link": true
    },
    "kernelspec": {
      "name": "python3",
      "display_name": "Python 3"
    },
    "language_info": {
      "name": "python"
    }
  },
  "cells": [
    {
      "cell_type": "markdown",
      "metadata": {
        "id": "view-in-github",
        "colab_type": "text"
      },
      "source": [
        "<a href=\"https://colab.research.google.com/github/Illakiyaa/Hakerrank/blob/main/Lists_.ipynb\" target=\"_parent\"><img src=\"https://colab.research.google.com/assets/colab-badge.svg\" alt=\"Open In Colab\"/></a>"
      ]
    },
    {
      "cell_type": "markdown",
      "metadata": {
        "id": "gWgz9LH6uuet"
      },
      "source": [
        "####  Lists\n"
      ]
    },
    {
      "cell_type": "code",
      "source": [
        "if __name__ == '__main__':\n",
        "    n= int(input())\n",
        "    a=[]\n",
        "for i in range(n):\n",
        "  entry=input().split(\" \")\n",
        "  if entry[0]==\"insert\":\n",
        "    a.insert(int(entry[1]),int(entry[2]))\n",
        "  elif entry[0]==\"append\":\n",
        "    a.append(int(entry[1]))\n",
        "  elif entry[0]==\"remove\":\n",
        "    a.remove(int(entry[1]))\n",
        "  elif entry[0]==\"pop\":\n",
        "    a.pop()\n",
        "  elif entry[0]==\"print\":\n",
        "    print(a)\n",
        "  elif entry[0]==\"sort\":\n",
        "    a.sort()\n",
        "  elif entry[0]==\"reverse\":\n",
        "    a.reverse()\n"
      ],
      "metadata": {
        "colab": {
          "base_uri": "https://localhost:8080/"
        },
        "id": "veBzXCr1IaNW",
        "outputId": "057e1309-d2a9-4383-f593-e409341c1d06"
      },
      "execution_count": 9,
      "outputs": [
        {
          "output_type": "stream",
          "name": "stdout",
          "text": [
            "5\n",
            "insert 9 8 5 0 \n",
            "pop\n",
            "sort\n",
            "append 3\n",
            "print\n",
            "[3]\n"
          ]
        }
      ]
    }
  ]
}