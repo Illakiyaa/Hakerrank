{
  "nbformat": 4,
  "nbformat_minor": 0,
  "metadata": {
    "colab": {
      "provenance": [],
      "authorship_tag": "ABX9TyPcA7RbvV/CgxeJHY+5MH22",
      "include_colab_link": true
    },
    "kernelspec": {
      "name": "python3",
      "display_name": "Python 3"
    },
    "language_info": {
      "name": "python"
    }
  },
  "cells": [
    {
      "cell_type": "markdown",
      "metadata": {
        "id": "view-in-github",
        "colab_type": "text"
      },
      "source": [
        "<a href=\"https://colab.research.google.com/github/Illakiyaa/Hakerrank/blob/main/default_dict_.ipynb\" target=\"_parent\"><img src=\"https://colab.research.google.com/assets/colab-badge.svg\" alt=\"Open In Colab\"/></a>"
      ]
    },
    {
      "cell_type": "markdown",
      "metadata": {
        "id": "gWgz9LH6uuet"
      },
      "source": [
        "#### default dict\n"
      ]
    },
    {
      "cell_type": "code",
      "source": [
        "from collections import defaultdict\n",
        "import sys\n",
        "\n",
        "n,m=map(int,input().split())\n",
        "d=defaultdict(list)\n",
        "\n",
        "for i in range(n):\n",
        "    d[input()].append(str(i+1))\n",
        "\n",
        "for j in range(m):\n",
        "        l=d[sys.stdin.readline().strip()]\n",
        "        if l:\n",
        "            print(*l)\n",
        "        else:\n",
        "            print(-1)\n"
      ],
      "metadata": {
        "colab": {
          "base_uri": "https://localhost:8080/"
        },
        "id": "veBzXCr1IaNW",
        "outputId": "72750611-7688-4908-b977-587ecc727294"
      },
      "execution_count": 22,
      "outputs": [
        {
          "output_type": "stream",
          "name": "stdout",
          "text": [
            "5 3\n",
            "a\n",
            "b\n",
            "c\n",
            "d\n",
            "-1\n",
            "-1\n",
            "-1\n",
            "-1\n"
          ]
        }
      ]
    }
  ]
}